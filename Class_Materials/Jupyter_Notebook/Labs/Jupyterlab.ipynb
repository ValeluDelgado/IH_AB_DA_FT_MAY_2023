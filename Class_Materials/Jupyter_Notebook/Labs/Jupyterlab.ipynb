{
 "cells": [
  {
   "cell_type": "markdown",
   "id": "1d2c010d",
   "metadata": {},
   "source": [
    "# Vacations in Berlin"
   ]
  },
  {
   "cell_type": "markdown",
   "id": "2cd9c21d",
   "metadata": {},
   "source": [
    "**The purpose is to portrait a selected person's name in a vacation in Berlin**"
   ]
  },
  {
   "cell_type": "code",
   "execution_count": 2,
   "id": "c3618fcd",
   "metadata": {},
   "outputs": [
    {
     "name": "stdout",
     "output_type": "stream",
     "text": [
      "Which will be the selected person's name: Madona\n",
      "Madona\n"
     ]
    }
   ],
   "source": [
    "selected_person = input(\"Which will be the selected person's name: \")\n",
    "print(selected_person)"
   ]
  },
  {
   "cell_type": "markdown",
   "id": "9bcec506",
   "metadata": {},
   "source": [
    "![Madonna](https://album.mediaset.es/eimg/2023/02/21/madonna_f53e.jpg?w=1200&h=900)"
   ]
  },
  {
   "cell_type": "markdown",
   "id": "0d5b6160",
   "metadata": {},
   "source": [
    "![Berlin holiday](https://www.berlin.de/binaries/asset/image_assets/8240834/ratio_2_1/1685130286/624x468/)"
   ]
  },
  {
   "cell_type": "markdown",
   "id": "8add37a0",
   "metadata": {},
   "source": [
    "- go to picnics\n",
    "- drink beer\n",
    "- dance away "
   ]
  },
  {
   "cell_type": "markdown",
   "id": "8f0e12b1",
   "metadata": {},
   "source": [
    "I have used the function input so select the person's name. "
   ]
  },
  {
   "cell_type": "code",
   "execution_count": null,
   "id": "8a89d1a7",
   "metadata": {},
   "outputs": [],
   "source": []
  }
 ],
 "metadata": {
  "kernelspec": {
   "display_name": "Python 3 (ipykernel)",
   "language": "python",
   "name": "python3"
  },
  "language_info": {
   "codemirror_mode": {
    "name": "ipython",
    "version": 3
   },
   "file_extension": ".py",
   "mimetype": "text/x-python",
   "name": "python",
   "nbconvert_exporter": "python",
   "pygments_lexer": "ipython3",
   "version": "3.10.9"
  }
 },
 "nbformat": 4,
 "nbformat_minor": 5
}
